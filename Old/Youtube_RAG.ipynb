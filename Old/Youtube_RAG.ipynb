{
 "cells": [
  {
   "cell_type": "code",
   "metadata": {
    "colab": {
     "base_uri": "https://localhost:8080/"
    },
    "id": "4mHjNbgX-nzA",
    "outputId": "732b7843-0fe3-40f5-dbba-14f8b5198085"
   },
   "source": [
    "!pip install langchain_community langchain_groq youtube_transcript_api faiss-cpu"
   ],
   "outputs": [],
   "execution_count": null
  },
  {
   "cell_type": "code",
   "metadata": {
    "id": "2mVKrxwiA7ST",
    "ExecuteTime": {
     "end_time": "2025-05-12T06:37:42.194383Z",
     "start_time": "2025-05-12T06:37:41.775613Z"
    }
   },
   "source": [
    "from langchain.document_loaders import YoutubeLoader\n",
    "from langchain.text_splitter import RecursiveCharacterTextSplitter\n",
    "from langchain.embeddings.huggingface import HuggingFaceEmbeddings\n",
    "from langchain_groq import ChatGroq\n",
    "from langchain.vectorstores import FAISS\n",
    "from langchain.chains import LLMChain\n",
    "from langchain.prompts.chat import (\n",
    "    ChatPromptTemplate,\n",
    "    SystemMessagePromptTemplate,\n",
    "    HumanMessagePromptTemplate\n",
    ")\n",
    "import textwrap"
   ],
   "outputs": [],
   "execution_count": 3
  },
  {
   "cell_type": "code",
   "metadata": {
    "colab": {
     "base_uri": "https://localhost:8080/"
    },
    "id": "-cu5Vw3ABngy",
    "outputId": "875ed1dd-57b7-42e6-c11a-8b30b6780419",
    "ExecuteTime": {
     "end_time": "2025-05-12T06:39:06.800923Z",
     "start_time": "2025-05-12T06:39:03.703848Z"
    }
   },
   "source": [
    "embeddings = HuggingFaceEmbeddings()"
   ],
   "outputs": [
    {
     "name": "stderr",
     "output_type": "stream",
     "text": [
      "/tmp/ipykernel_31851/1679543760.py:1: LangChainDeprecationWarning: The class `HuggingFaceEmbeddings` was deprecated in LangChain 0.2.2 and will be removed in 1.0. An updated version of the class exists in the :class:`~langchain-huggingface package and should be used instead. To use it run `pip install -U :class:`~langchain-huggingface` and import as `from :class:`~langchain_huggingface import HuggingFaceEmbeddings``.\n",
      "  embeddings = HuggingFaceEmbeddings()\n",
      "/tmp/ipykernel_31851/1679543760.py:1: LangChainDeprecationWarning: Default values for HuggingFaceEmbeddings.model_name were deprecated in LangChain 0.2.16 and will be removed in 0.4.0. Explicitly pass a model_name to the HuggingFaceEmbeddings constructor instead.\n",
      "  embeddings = HuggingFaceEmbeddings()\n",
      "/home/aiot/.local/lib/python3.10/site-packages/tqdm/auto.py:21: TqdmWarning: IProgress not found. Please update jupyter and ipywidgets. See https://ipywidgets.readthedocs.io/en/stable/user_install.html\n",
      "  from .autonotebook import tqdm as notebook_tqdm\n"
     ]
    }
   ],
   "execution_count": 4
  },
  {
   "cell_type": "code",
   "metadata": {
    "id": "HWoWlLmaB0_f",
    "ExecuteTime": {
     "end_time": "2025-05-12T06:39:20.703226Z",
     "start_time": "2025-05-12T06:39:20.700920Z"
    }
   },
   "source": [
    "def create_db_from_youtube_video_url(video_url):\n",
    "  loader = YoutubeLoader.from_youtube_url(video_url)\n",
    "  transcript = loader.load()\n",
    "\n",
    "  text_splitter = RecursiveCharacterTextSplitter(chunk_size = 2000, chunk_overlap = 100)\n",
    "  docs = text_splitter.split_documents(transcript)\n",
    "  db = FAISS.from_documents(docs, embeddings)\n",
    "  return db"
   ],
   "outputs": [],
   "execution_count": 5
  },
  {
   "cell_type": "code",
   "metadata": {
    "id": "Kgtcoc-pB1CQ",
    "ExecuteTime": {
     "end_time": "2025-05-12T06:39:26.494815Z",
     "start_time": "2025-05-12T06:39:26.491457Z"
    }
   },
   "source": [
    "def get_response_from_query(db, query, k = 4):\n",
    "  docs = db.similarity_search(query, k = k)\n",
    "  docs_page_content = \" \".join([d.page_content for d in docs])\n",
    "\n",
    "  chat = ChatGroq(api_key = \"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\", model = \"llama-3.3-70b-versatile\", temperature=0)\n",
    "\n",
    "  template = \"\"\"You are a helpful assistant that that can answer questions about youtube videos\n",
    "        based on the video's transcript: {docs}\n",
    "\n",
    "        Only use the factual information from the transcript to answer the question.\n",
    "\n",
    "        If you feel like you don't have enough information to answer the question, say \"I don't know\".\"\"\"\n",
    "\n",
    "  system_message_prompt = SystemMessagePromptTemplate.from_template(template)\n",
    "  human_template = \"Answer the following question: {question}\"\n",
    "\n",
    "  human_message_prompt = HumanMessagePromptTemplate.from_template(human_template)\n",
    "\n",
    "  chat_prompt = ChatPromptTemplate.from_messages(\n",
    "      [system_message_prompt, human_message_prompt]\n",
    "  )\n",
    "\n",
    "  chain = LLMChain(llm = chat, prompt = chat_prompt)\n",
    "\n",
    "  response = chain.run(question = query, docs = docs_page_content)\n",
    "\n",
    "  response = response.replace(\"\\n\", \"\")\n",
    "\n",
    "  return response, docs\n"
   ],
   "outputs": [],
   "execution_count": 7
  },
  {
   "cell_type": "code",
   "metadata": {
    "colab": {
     "base_uri": "https://localhost:8080/"
    },
    "id": "fzq0zRTcB1NS",
    "outputId": "11ce44d7-e54f-4bf5-9516-44d22af964d9",
    "ExecuteTime": {
     "end_time": "2025-05-12T06:43:04.561293Z",
     "start_time": "2025-05-12T06:43:02.842689Z"
    }
   },
   "source": [
    "video_url = \"https://youtu.be/jcleNkRJyVo?si=CghJjAYVn_2H9-RP\"\n",
    "db = create_db_from_youtube_video_url(video_url)\n",
    "query = \"what is this video about?\"\n",
    "response, docs = get_response_from_query(db, query)\n",
    "print(textwrap.fill(response, width = 70))"
   ],
   "outputs": [
    {
     "name": "stdout",
     "output_type": "stream",
     "text": [
      "This video is about getting started with Arduino, specifically\n",
      "installing the Arduino IDE and understanding its basic features, as\n",
      "well as introducing the concept of robotics and embedded systems\n",
      "engineering.\n"
     ]
    }
   ],
   "execution_count": 13
  },
  {
   "cell_type": "code",
   "metadata": {
    "colab": {
     "base_uri": "https://localhost:8080/"
    },
    "id": "t1NB67ejC5qe",
    "outputId": "bb452a2b-8eae-4636-ba37-37944925dee5",
    "ExecuteTime": {
     "end_time": "2025-05-12T06:43:13.380201Z",
     "start_time": "2025-05-12T06:43:13.378140Z"
    }
   },
   "source": [
    "print(docs)"
   ],
   "outputs": [
    {
     "name": "stdout",
     "output_type": "stream",
     "text": [
      "[Document(id='d85aca10-959e-4d8c-9015-d13c429d06f4', metadata={'source': 'jcleNkRJyVo'}, page_content='button from your desire board and it will just directly connect your board to the a ID here is the library function as uh we are going to start our programming we will talk about the library in our upcoming videos so debugging is the actually uh process of the coding so from here we will uh understand that the how the code will work or there will be a error how how can we debug the error okay so from the search as you already guessing that search will um operate as a search that if you are going to uh use a void the uh that will show that our we are using two void okay so search will operate by default as it is at is plus so here is the basic thing about the AR ID uh here is the serial floater and serial we will talk about it in the upcoming video so thank you very much I hope to see you again bye'), Document(id='a2ede3ba-b66f-4e70-a39c-74372fc819a6', metadata={'source': 'jcleNkRJyVo'}, page_content=\"to talk about is how to uh install ardino IDE and in the next upcoming videos we're going to talk about ardino ID uh features status bars navigations bar how we can operate a code in ardino ID and definitely we uh we will learn how to push code from ardino ID E2 Ardo Nano Ardo Uno Ardo Mega or not MCU which is esp32 so uh which is ESP 826 and another so many modules like esp32 Orem 32 or also we can actually push our code from ardino ID to raspber P Pico which is the another um mind-blowing microcontroller so it's almost done so uh what we are going to do we are going to just open the um the folder where it uh has downloaded so uh after completing uh the download we just will just follow the uh way but uh it's is very much easy as you have uh using this on your computer you have already install so many softwares so this one is also similar to that I don't know why it uh takes too much time so here it is okay so uh where uh what we are going to do we're just uh going to double click on it and uh wait for the installation window to pop up here we go just um I agree and uh if you want to uh use it on all the members like if you have the multiple accounts in one computer you can just uh press the uh anyone who uses the computer all the users so any any of them will be okay so next there will be a security check press yes and then wait then we have to start over I agree and install you can just uh leave it as it is or you can just uh Define another path so install and in the installation process you have to uh you have to uh keep in mind that you uh the ardino ID you will install automatic some drivers which will be help to connect the ardino ID or your computer to your ardino Uno or Mega or any other microcontroller okay so whenever there will be a popup for installing driver just pre this so let's wait so the installation process is done so here we can just uh by clicking uh the Finish we will instart the Aro ID so let's inst the Aro ID so it has already uh install\"), Document(id='f15bfce4-36fd-4e75-b03a-8c6a474a720d', metadata={'source': 'jcleNkRJyVo'}, page_content=\"uh the Finish we will instart the Aro ID so let's inst the Aro ID so it has already uh install the driver uh from uh itself so it is actually good enough for the newer [Music] version so for the first time it will take some time to start and open and then it won't take that much time to start okay so uh here is actually uh one of my previous code which is been used as a cash so okay so actually here are some uh window that we need to understand so I'm going to just open a new sketch and close the previous one which is the actually looks mess so the computer actually uh I am using today is very much slow so I don't know why it takes uh much time but uh from the now from the next classes that uh next videos we are going to uh operate that will be a faster computer okay so don't worry about it so here we go and here is a um maybe maybe a greenish blue bar which is actually our action bar uh which has the verifying the code verification or compiling the code and the next one is the upload Cod whenever we are going to import our code here and we want to uh push the codee into our any microcontroller we will select our microcontroller and Port from here and we're just going to hit the upload button that will definitely upload the code into our microcontroller which is which can be you know no mega or anything so here are some uh here are five tabs actually the first one is open as you know the open will actually open some uh our computer directory uh from where we can can just uh open any codes uh the second one is the port manager actually we can uh add um our you know Uno board is actually already pre-existed board uh which is you can see here uh like this one is the existing board and the rest are actually from board manager so so from here you can actually add esp32 32 or um raspber 5 Pico any kind of code uh board from here okay just click on the installation install button from your desire board and it will just directly connect your board to the a ID here is the\"), Document(id='ff182f22-3aa5-4984-b8b4-88ba6230e820', metadata={'source': 'jcleNkRJyVo'}, page_content=\"hello everyone uh this is shaken from embedded hex today we are going to start our new Journey as robotic and embedded systems engineering are in the way of this path so uh what we have to know uh before starting this journey that what is robotics what is invaded system and how how Robotics and embed system collaborate with each other okay so robotics is a uh is a thing that you already know about like uh if you if we are going to make a bot or make a machine that will do a specific task that will we can call that a robotics like uh if we just operate a four-wheeler car and program it to do just follow a straight line or uh White in a black line or black in a white line so it will be a robot in the other case if what is actually embeded system so embed system is the collaboration of software and Hardware like if we are just pick a computer and we have to give it a caral or operating system it will be a embed system trust me there is a lot of embed system in our society like uh if you are going to build a ea um industry that will definitely need a embedded systems uh organized uh computer or machineries so uh without further Ado let's get into it that how should we start that uh so basically uh everyone in this world that went to the path of Robotics or EMB system they was uh they started the work with ardino Uno or ardino any series of uh any series of microcontrollers like Ardo Uno Mega Nano micro there is so many microcontrollers so let's start that how can we just Pusha code in ardino Uno or ardino Mega or any series of ardos so before starting that we have to understand that how to push a code or how to write a code in our ardino programming uh IDE or any other ID for that we need the ardino ID so let's get uh into our Google search and type ardino ID whenever you are going to search for ardino ID you will get this kind of result so uh without just uh going through every single thing we are just going to uh get into either ardino IDE or IDE to so uh just get\")]\n"
     ]
    }
   ],
   "execution_count": 14
  },
  {
   "cell_type": "code",
   "metadata": {
    "id": "fqk1gLQZGSpP"
   },
   "source": [
    "#Homework to create a gradio/flask/fastapi/react-js application"
   ],
   "outputs": [],
   "execution_count": null
  }
 ],
 "metadata": {
  "accelerator": "GPU",
  "colab": {
   "gpuType": "T4",
   "provenance": []
  },
  "kernelspec": {
   "display_name": "Python 3",
   "name": "python3"
  },
  "language_info": {
   "name": "python"
  }
 },
 "nbformat": 4,
 "nbformat_minor": 0
}
